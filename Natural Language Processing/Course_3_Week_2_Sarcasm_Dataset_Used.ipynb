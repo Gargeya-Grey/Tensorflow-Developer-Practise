{
  "nbformat": 4,
  "nbformat_minor": 0,
  "metadata": {
    "colab": {
      "name": "Course 3 Week 2 - Sarcasm Dataset Used.ipynb",
      "provenance": []
    },
    "kernelspec": {
      "name": "python3",
      "display_name": "Python 3"
    }
  },
  "cells": [
    {
      "cell_type": "markdown",
      "metadata": {
        "id": "Yt8arxHJ-BV8"
      },
      "source": [
        "# Natural language Processing\n",
        "\n",
        "## creating a Binary classifier with Sarcasm Dataset"
      ]
    },
    {
      "cell_type": "code",
      "metadata": {
        "id": "gDkeoOXI95qH",
        "outputId": "b0465d17-7bda-452b-a74f-976007d15af0",
        "colab": {
          "base_uri": "https://localhost:8080/"
        }
      },
      "source": [
        "import tensorflow as tf\n",
        "print(tf.__version__)"
      ],
      "execution_count": 1,
      "outputs": [
        {
          "output_type": "stream",
          "text": [
            "2.3.0\n"
          ],
          "name": "stdout"
        }
      ]
    },
    {
      "cell_type": "code",
      "metadata": {
        "id": "QNaBUhUW-QRM"
      },
      "source": [
        "import json\n",
        "from tensorflow.keras.preprocessing.text import Tokenizer\n",
        "from tensorflow.keras.preprocessing.sequence import pad_sequences"
      ],
      "execution_count": 2,
      "outputs": []
    },
    {
      "cell_type": "markdown",
      "metadata": {
        "id": "3hnzuW3e-cTm"
      },
      "source": [
        "### Getting the Dataset"
      ]
    },
    {
      "cell_type": "code",
      "metadata": {
        "id": "_Vr6Muln-bUh",
        "outputId": "933a2f85-5c94-4848-e198-aa2c59c49af2",
        "colab": {
          "base_uri": "https://localhost:8080/"
        }
      },
      "source": [
        "!wget --no-check-certificate \\\n",
        "  https://storage.googleapis.com/laurencemoroney-blog.appspot.com/sarcasm.json \\\n",
        "  -O /tmp/sarcasm.json"
      ],
      "execution_count": 3,
      "outputs": [
        {
          "output_type": "stream",
          "text": [
            "--2020-11-03 12:00:39--  https://storage.googleapis.com/laurencemoroney-blog.appspot.com/sarcasm.json\n",
            "Resolving storage.googleapis.com (storage.googleapis.com)... 142.250.98.128, 142.250.97.128, 74.125.31.128, ...\n",
            "Connecting to storage.googleapis.com (storage.googleapis.com)|142.250.98.128|:443... connected.\n",
            "HTTP request sent, awaiting response... 200 OK\n",
            "Length: 5643545 (5.4M) [application/json]\n",
            "Saving to: ‘/tmp/sarcasm.json’\n",
            "\n",
            "\r/tmp/sarcasm.json     0%[                    ]       0  --.-KB/s               \r/tmp/sarcasm.json   100%[===================>]   5.38M  --.-KB/s    in 0.03s   \n",
            "\n",
            "2020-11-03 12:00:39 (181 MB/s) - ‘/tmp/sarcasm.json’ saved [5643545/5643545]\n",
            "\n"
          ],
          "name": "stdout"
        }
      ]
    },
    {
      "cell_type": "markdown",
      "metadata": {
        "id": "i-3a_-hR-yxM"
      },
      "source": [
        "### Setting the Hyperparameters"
      ]
    },
    {
      "cell_type": "code",
      "metadata": {
        "id": "Lo68xRkE-wIg"
      },
      "source": [
        "vocab_size = 10000\n",
        "max_length = 120\n",
        "embedding_dim = 16\n",
        "trunc_type = 'post'\n",
        "oov_tok = '<OOV>'\n",
        "training_size = 20000\n",
        "padding_type = 'post'"
      ],
      "execution_count": 4,
      "outputs": []
    },
    {
      "cell_type": "code",
      "metadata": {
        "id": "IawYHEOn_InZ"
      },
      "source": [
        "with open('/tmp/sarcasm.json') as f:\n",
        "  datastore = json.load(f)\n",
        "\n",
        "sentences = []\n",
        "labels = []\n",
        "for item in datastore:\n",
        "  sentences.append(item['headline'])\n",
        "  labels.append(item['is_sarcastic'])"
      ],
      "execution_count": 5,
      "outputs": []
    },
    {
      "cell_type": "code",
      "metadata": {
        "id": "icWR_Qkt_ciE"
      },
      "source": [
        "training_sentences = sentences[0:training_size]\n",
        "testing_sentences = sentences[training_size:]\n",
        "\n",
        "training_labels = labels[0:training_size]\n",
        "testing_labels = labels[training_size:]"
      ],
      "execution_count": 6,
      "outputs": []
    },
    {
      "cell_type": "code",
      "metadata": {
        "id": "gZxpWT3F_s7g"
      },
      "source": [
        "tokenizer  =Tokenizer(num_words = vocab_size, oov_token = oov_tok)\n",
        "tokenizer.fit_on_texts(training_sentences)\n",
        "word_index = tokenizer.word_index\n",
        "sequences = tokenizer.texts_to_sequences(training_sentences)\n",
        "padded = pad_sequences(sequences, maxlen = max_length, padding=padding_type, truncating=trunc_type)\n",
        "\n",
        "testing_sequences = tokenizer.texts_to_sequences(testing_sentences)\n",
        "testing_padded = pad_sequences(testing_sequences, maxlen = max_length, padding=padding_type, truncating=trunc_type)"
      ],
      "execution_count": 7,
      "outputs": []
    },
    {
      "cell_type": "markdown",
      "metadata": {
        "id": "O_zUUNjKBSBe"
      },
      "source": [
        "We need our padding and labels to be NUMPY array in tensorflow 2.x"
      ]
    },
    {
      "cell_type": "code",
      "metadata": {
        "id": "_JnYF-WDBLqw"
      },
      "source": [
        "import numpy as np\n",
        "training_padded = np.array(padded)\n",
        "training_labels = np.array(training_labels)\n",
        "\n",
        "testing_padded = np.array(testing_padded)\n",
        "testing_labels = np.array(testing_labels)"
      ],
      "execution_count": 9,
      "outputs": []
    },
    {
      "cell_type": "code",
      "metadata": {
        "id": "2B8pO8ANBqDG"
      },
      "source": [
        "model = tf.keras.models.Sequential([\n",
        "                                    tf.keras.layers.Embedding(vocab_size, embedding_dim, input_length = max_length),\n",
        "                                    tf.keras.layers.GlobalAveragePooling1D(),\n",
        "                                    tf.keras.layers.Dense(24, activation = 'relu'),\n",
        "                                    tf.keras.layers.Dense(1, activation ='sigmoid')\n",
        "])"
      ],
      "execution_count": 10,
      "outputs": []
    },
    {
      "cell_type": "code",
      "metadata": {
        "id": "In2u2omiCId1"
      },
      "source": [
        "model.compile(optimizer = 'adam', loss = 'binary_crossentropy', metrics = ['accuracy'])"
      ],
      "execution_count": 11,
      "outputs": []
    },
    {
      "cell_type": "code",
      "metadata": {
        "id": "Q9MdkdMKCQkg",
        "outputId": "f5782db4-7a8d-41c2-e21f-8dcb7c087242",
        "colab": {
          "base_uri": "https://localhost:8080/"
        }
      },
      "source": [
        "model.summary()"
      ],
      "execution_count": 12,
      "outputs": [
        {
          "output_type": "stream",
          "text": [
            "Model: \"sequential\"\n",
            "_________________________________________________________________\n",
            "Layer (type)                 Output Shape              Param #   \n",
            "=================================================================\n",
            "embedding (Embedding)        (None, 120, 16)           160000    \n",
            "_________________________________________________________________\n",
            "global_average_pooling1d (Gl (None, 16)                0         \n",
            "_________________________________________________________________\n",
            "dense (Dense)                (None, 24)                408       \n",
            "_________________________________________________________________\n",
            "dense_1 (Dense)              (None, 1)                 25        \n",
            "=================================================================\n",
            "Total params: 160,433\n",
            "Trainable params: 160,433\n",
            "Non-trainable params: 0\n",
            "_________________________________________________________________\n"
          ],
          "name": "stdout"
        }
      ]
    },
    {
      "cell_type": "code",
      "metadata": {
        "id": "xZOJb1VGCRyU",
        "outputId": "9a722e17-46dd-418f-dea3-0abced1ae7bb",
        "colab": {
          "base_uri": "https://localhost:8080/"
        }
      },
      "source": [
        "num_epochs = 10\n",
        "history = model.fit(training_padded, training_labels, epochs = num_epochs, validation_data = (testing_padded, testing_labels), verbose = 2)"
      ],
      "execution_count": 14,
      "outputs": [
        {
          "output_type": "stream",
          "text": [
            "Epoch 1/10\n",
            "625/625 - 2s - loss: 0.1209 - accuracy: 0.9591 - val_loss: 0.4667 - val_accuracy: 0.8320\n",
            "Epoch 2/10\n",
            "625/625 - 2s - loss: 0.1103 - accuracy: 0.9632 - val_loss: 0.4596 - val_accuracy: 0.8420\n",
            "Epoch 3/10\n",
            "625/625 - 2s - loss: 0.1026 - accuracy: 0.9656 - val_loss: 0.4761 - val_accuracy: 0.8441\n",
            "Epoch 4/10\n",
            "625/625 - 2s - loss: 0.0945 - accuracy: 0.9691 - val_loss: 0.5070 - val_accuracy: 0.8402\n",
            "Epoch 5/10\n",
            "625/625 - 2s - loss: 0.0866 - accuracy: 0.9725 - val_loss: 0.5252 - val_accuracy: 0.8396\n",
            "Epoch 6/10\n",
            "625/625 - 2s - loss: 0.0799 - accuracy: 0.9747 - val_loss: 0.5553 - val_accuracy: 0.8380\n",
            "Epoch 7/10\n",
            "625/625 - 2s - loss: 0.0731 - accuracy: 0.9776 - val_loss: 0.5838 - val_accuracy: 0.8350\n",
            "Epoch 8/10\n",
            "625/625 - 2s - loss: 0.0682 - accuracy: 0.9790 - val_loss: 0.6051 - val_accuracy: 0.8325\n",
            "Epoch 9/10\n",
            "625/625 - 2s - loss: 0.0635 - accuracy: 0.9812 - val_loss: 0.6802 - val_accuracy: 0.8246\n",
            "Epoch 10/10\n",
            "625/625 - 2s - loss: 0.0586 - accuracy: 0.9823 - val_loss: 0.6752 - val_accuracy: 0.8261\n"
          ],
          "name": "stdout"
        }
      ]
    },
    {
      "cell_type": "markdown",
      "metadata": {
        "id": "QskZDQWsCo0K"
      },
      "source": [
        "### Visualizing the Training with Graph"
      ]
    },
    {
      "cell_type": "code",
      "metadata": {
        "id": "5ki_V_F1Cg6R",
        "outputId": "cb9521db-21b0-42b9-f5c6-e425a1cc530c",
        "colab": {
          "base_uri": "https://localhost:8080/",
          "height": 546
        }
      },
      "source": [
        "import matplotlib.pyplot as plt\n",
        "\n",
        "def plot_graphs(history, string, ylim):\n",
        "  plt.plot(history.history[string])\n",
        "  plt.plot(history.history['val_'+string])\n",
        "  plt.ylim(ylim)\n",
        "  plt.xlabel(\"Epochs\")\n",
        "  plt.ylabel(string)\n",
        "  plt.legend([string, 'val_'+string])\n",
        "  plt.show()\n",
        "\n",
        "plot_graphs(history, 'accuracy', (0.8,1))\n",
        "plot_graphs(history, 'loss', (0))"
      ],
      "execution_count": 18,
      "outputs": [
        {
          "output_type": "display_data",
          "data": {
            "image/png": "[encoded data removed]",
            "text/plain": [
              "<Figure size 432x288 with 1 Axes>"
            ]
          },
          "metadata": {
            "tags": [],
            "needs_background": "light"
          }
        },
        {
          "output_type": "display_data",
          "data": {
            "image/png": "[encoded data removed]",
            "text/plain": [
              "<Figure size 432x288 with 1 Axes>"
            ]
          },
          "metadata": {
            "tags": [],
            "needs_background": "light"
          }
        }
      ]
    },
    {
      "cell_type": "code",
      "metadata": {
        "id": "IcqmSqYVDPFi"
      },
      "source": [
        ""
      ],
      "execution_count": null,
      "outputs": []
    }
  ]
}